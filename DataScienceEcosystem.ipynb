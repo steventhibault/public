{
 "cells": [
  {
   "cell_type": "markdown",
   "id": "46de2910-86f6-4648-835c-2fe9ccf7c42c",
   "metadata": {},
   "source": [
    "# Data Science Tools & Ecosystem"
   ]
  },
  {
   "cell_type": "markdown",
   "id": "d0bb7959-7bd0-4556-bb45-3460f2829090",
   "metadata": {},
   "source": [
    "In this notebook, Data Science tools and Eco are summed up"
   ]
  },
  {
   "cell_type": "markdown",
   "id": "ddfc15ed-0f5c-456a-b820-d256b8d9cfa9",
   "metadata": {},
   "source": [
    "Popular Data Science Languages - Python, R, SQL, Java, C++"
   ]
  },
  {
   "cell_type": "markdown",
   "id": "9fd3da8a-34e4-4959-8dfd-d05c769701d2",
   "metadata": {},
   "source": [
    "Some of the commonly used libraries used by Data Scientists include: \r\n",
    "\r\n",
    "1. TensorFl. \r\n",
    "2. Nu . \r\n",
    "3. SPy. \r\n",
    "4. Pdas. \r\n",
    "5. Hatptlib. \r\n",
    "6Keras. \r\n",
    "7. SciK-Learn. \r\n",
    "8h. etc..;"
   ]
  },
  {
   "cell_type": "markdown",
   "id": "6fd6b208-75b4-49ca-b880-9c69b03d66b5",
   "metadata": {},
   "source": [
    "|Data Science Tools|\n",
    "|---| \n",
    "|SAS|\n",
    "|Apache Hadoop| \n",
    "|TensorFlow|\n"
   ]
  },
  {
   "cell_type": "markdown",
   "id": "e85d7f63-0cc4-4af4-b246-974628df1b66",
   "metadata": {},
   "source": [
    "### Below are a few examples of evaluating arithmetic expressions in Python"
   ]
  },
  {
   "cell_type": "code",
   "execution_count": 4,
   "id": "7ce4225a-6b1e-41b3-bdd2-d5d472b4dd5c",
   "metadata": {},
   "outputs": [
    {
     "data": {
      "text/plain": [
       "13"
      ]
     },
     "execution_count": 4,
     "metadata": {},
     "output_type": "execute_result"
    }
   ],
   "source": [
    "#This is an arithmetic example to multiply and then add integers \n",
    "(3*4)+1"
   ]
  },
  {
   "cell_type": "code",
   "execution_count": 5,
   "id": "895c4c36-caf7-4387-974f-1649cbe6ffc0",
   "metadata": {},
   "outputs": [
    {
     "data": {
      "text/plain": [
       "3.3333333333333335"
      ]
     },
     "execution_count": 5,
     "metadata": {},
     "output_type": "execute_result"
    }
   ],
   "source": [
    "#This wiLL convert 290 minutes to hours by diving by 66 \n",
    "200/60"
   ]
  },
  {
   "cell_type": "markdown",
   "id": "9a453e19-095a-423d-af5b-07a7fd72f607",
   "metadata": {},
   "source": [
    "__Objective__  \n",
    "* List popular languages for Data Science  \n",
    "* List popular libraries for Data Science  \n",
    "* List of Well known Data Science Tools  \n",
    "* How to Provide comments in the cell "
   ]
  },
  {
   "cell_type": "markdown",
   "id": "f2d6b50d-99be-4531-9ef5-8f2bea666e57",
   "metadata": {},
   "source": [
    "## Author\n",
    "Stephen Thibault\n"
   ]
  },
  {
   "cell_type": "code",
   "execution_count": null,
   "id": "526d8f70-1480-439e-ab30-7a76be8a9896",
   "metadata": {},
   "outputs": [],
   "source": []
  }
 ],
 "metadata": {
  "kernelspec": {
   "display_name": "Python 3 (ipykernel)",
   "language": "python",
   "name": "python3"
  },
  "language_info": {
   "codemirror_mode": {
    "name": "ipython",
    "version": 3
   },
   "file_extension": ".py",
   "mimetype": "text/x-python",
   "name": "python",
   "nbconvert_exporter": "python",
   "pygments_lexer": "ipython3",
   "version": "3.12.0"
  }
 },
 "nbformat": 4,
 "nbformat_minor": 5
}
